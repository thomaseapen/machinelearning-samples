{
 "cells": [
  {
   "cell_type": "code",
   "execution_count": 204,
   "id": "b8b860ba",
   "metadata": {},
   "outputs": [],
   "source": [
    "import pandas as pd\n",
    "from sklearn.tree import DecisionTreeClassifier\n",
    "from sklearn.model_selection import train_test_split\n",
    "from sklearn.metrics import accuracy_score\n",
    "from sklearn import tree\n",
    "import joblib"
   ]
  },
  {
   "cell_type": "code",
   "execution_count": 205,
   "id": "703884b1",
   "metadata": {},
   "outputs": [],
   "source": [
    "music_data = pd.read_csv('/Users/thomas/music.csv')"
   ]
  },
  {
   "cell_type": "code",
   "execution_count": 206,
   "id": "a6ec7174",
   "metadata": {},
   "outputs": [],
   "source": [
    "X = music_data.drop(columns=['genre'])\n",
    "Y = music_data['genre']\n",
    "X_train, X_test, Y_train, Y_test = train_test_split(X,Y, test_size=0.1)"
   ]
  },
  {
   "cell_type": "code",
   "execution_count": 207,
   "id": "bb54f22a",
   "metadata": {},
   "outputs": [
    {
     "data": {
      "text/plain": [
       "DecisionTreeClassifier()"
      ]
     },
     "execution_count": 207,
     "metadata": {},
     "output_type": "execute_result"
    }
   ],
   "source": [
    "model = DecisionTreeClassifier()\n",
    "model.fit(X_train, Y_train)\n",
    "#joblib.dump(model, 'music_recommend.joblib')\n",
    "#predictions = model.predict(X_test)\n",
    "#score = accuracy_score(Y_test, predictions)\n",
    "#score\n",
    "#model = joblib.load('/Users/thomas/music_recommend.joblib')\n",
    "#predictions = model.predict([[21, 1]])\n",
    "#predictions"
   ]
  },
  {
   "cell_type": "code",
   "execution_count": 208,
   "id": "673b870c",
   "metadata": {},
   "outputs": [],
   "source": [
    "tree.export_graphviz(model, out_file='music-recommender.dot',\n",
    "                    feature_names=['age', 'gender'],\n",
    "                    class_names=sorted(Y.unique()),\n",
    "                    rounded=True,\n",
    "                    filled=True)"
   ]
  }
 ],
 "metadata": {
  "kernelspec": {
   "display_name": "Python 3",
   "language": "python",
   "name": "python3"
  },
  "language_info": {
   "codemirror_mode": {
    "name": "ipython",
    "version": 3
   },
   "file_extension": ".py",
   "mimetype": "text/x-python",
   "name": "python",
   "nbconvert_exporter": "python",
   "pygments_lexer": "ipython3",
   "version": "3.8.8"
  }
 },
 "nbformat": 4,
 "nbformat_minor": 5
}
